{
 "cells": [
  {
   "cell_type": "markdown",
   "id": "7b29a59b4a8fc47d",
   "metadata": {
    "editable": true,
    "slideshow": {
     "slide_type": ""
    },
    "tags": []
   },
   "source": [
    "Python is pretty famous for 2 things:\n",
    "1. Lot of inbuilt modules.\n",
    "2. It supports past, present and future technologies.\n",
    "\n",
    "Python is called as a scripting language.\n"
   ]
  },
  {
   "cell_type": "code",
   "execution_count": null,
   "id": "initial_id",
   "metadata": {
    "ExecuteTime": {
     "end_time": "2025-07-01T05:09:24.197157Z",
     "start_time": "2025-07-01T05:09:24.188439Z"
    }
   },
   "outputs": [],
   "source": [
    "name=123\n",
    "Name=321\n",
    "#123Name=\"abc\"\n",
    "_123name=\"pqr\"\n",
    "#name$123=\"fgh\"\n",
    "print(name,Name,_123name)"
   ]
  },
  {
   "cell_type": "code",
   "execution_count": null,
   "id": "220a7e46ef958268",
   "metadata": {
    "ExecuteTime": {
     "end_time": "2025-07-01T05:09:59.656491Z",
     "start_time": "2025-07-01T05:09:59.613686Z"
    }
   },
   "outputs": [],
   "source": [
    "#Complex class\n",
    "print(10+5j)\n",
    "type(10+5j)"
   ]
  },
  {
   "cell_type": "code",
   "execution_count": null,
   "id": "e407410cbef1bbc0",
   "metadata": {
    "ExecuteTime": {
     "end_time": "2025-07-01T05:11:33.303323Z",
     "start_time": "2025-07-01T05:11:31.798528Z"
    }
   },
   "outputs": [],
   "source": [
    "n1=100\n",
    "print(n1,type(n1))\n",
    "n2=23.56\n",
    "n3=\"hello\"\n",
    "n4=100+7j\n",
    "print(n2,type(n2))\n",
    "\n",
    "print(n3,type(n3))\n",
    "\n",
    "print(n4,type(n4))\n"
   ]
  },
  {
   "cell_type": "code",
   "execution_count": null,
   "id": "e53bf87b98691599",
   "metadata": {
    "ExecuteTime": {
     "end_time": "2025-07-01T05:11:57.621955Z",
     "start_time": "2025-07-01T05:11:50.361542Z"
    }
   },
   "outputs": [],
   "source": [
    "#dynamic input\n",
    "n1=int(input(\"Enter num1 here:\"))\n",
    "n2=int(input(\"Enter num2 here:\"))\n",
    "print(\"Sum=\",n1+n2)"
   ]
  },
  {
   "cell_type": "code",
   "execution_count": null,
   "id": "f8d8145a7199f36a",
   "metadata": {
    "ExecuteTime": {
     "end_time": "2025-07-01T05:21:24.649612Z",
     "start_time": "2025-07-01T05:21:19.351484Z"
    }
   },
   "outputs": [],
   "source": [
    "#Take 2 integer numbers as input from the user, and design a calculator +-x/%\n",
    "x=int(input(\"Enter first number here:\"))\n",
    "y=int(input(\"Enter second number here:\"))\n",
    "add=x+y\n",
    "if x>y:\n",
    "    dif=x-y\n",
    "else:\n",
    "    dif=y-x\n",
    "prod=x*y\n",
    "quotFloat=x/y\n",
    "quotInt=x//y\n",
    "remain=x%y\n",
    "\n",
    "print(\"Sum is\",add)\n",
    "print(\"Difference is\",dif)\n",
    "print(\"Product is\",prod)\n",
    "print(\"Float Quotient is\",quotFloat)\n",
    "print(\"Integer Quotient is\",quotInt)\n",
    "print(\"Remainder is\",remain)"
   ]
  },
  {
   "cell_type": "code",
   "execution_count": null,
   "id": "feb42e5d3e498fce",
   "metadata": {
    "ExecuteTime": {
     "end_time": "2025-07-01T05:35:15.877860Z",
     "start_time": "2025-07-01T05:35:11.148883Z"
    }
   },
   "outputs": [],
   "source": [
    "a=float(input(\"Enter num1\"))\n",
    "b=float(input(\"num2\"))\n",
    "'''a=int(a)\n",
    "b=int(b)'''\n",
    "add=a+b\n",
    "print(add)"
   ]
  },
  {
   "cell_type": "code",
   "execution_count": null,
   "id": "c45660e9f4120f3d",
   "metadata": {
    "ExecuteTime": {
     "end_time": "2025-07-01T06:07:28.044081Z",
     "start_time": "2025-07-01T06:07:28.036790Z"
    }
   },
   "outputs": [],
   "source": [
    "'''Sam and Angel are good friends. Sam bought 75 candies, he gives half of it to angel since angel likes sam a lot, she gives back half. Calculate and print how many sam and angel have individually.'''\n",
    "sam=75\n",
    "angel=0.5*sam\n",
    "\n",
    "sam=0.5*sam+0.5*angel\n",
    "angel=0.5*angel\n",
    "\n",
    "print(\"Sam has\",sam)\n",
    "print(\"Angel has\",angel)"
   ]
  },
  {
   "cell_type": "code",
   "execution_count": null,
   "id": "a89b007deefac97b",
   "metadata": {
    "ExecuteTime": {
     "end_time": "2025-07-01T06:23:53.902535Z",
     "start_time": "2025-07-01T06:23:53.894094Z"
    }
   },
   "outputs": [],
   "source": [
    "# No variable version\n",
    "print(\"Sam has\", 0.5 * 75 + 0.5 * (0.5 * 75))\n",
    "print(\"Angel has\", 0.5 * (0.5 * 75))\n"
   ]
  },
  {
   "cell_type": "code",
   "execution_count": null,
   "id": "19a91213f596672",
   "metadata": {
    "ExecuteTime": {
     "end_time": "2025-07-01T06:29:35.951327Z",
     "start_time": "2025-07-01T06:29:30.432026Z"
    }
   },
   "outputs": [],
   "source": [
    "age_men=int(input(\"Enter age\"))\n",
    "if age_men>21:\n",
    "    print(\"Eligible to get married\")\n",
    "else:\n",
    "    print(\"You are a kiddo, wait for some more time\")"
   ]
  },
  {
   "cell_type": "code",
   "execution_count": null,
   "id": "f2af00c59d35998a",
   "metadata": {
    "ExecuteTime": {
     "end_time": "2025-07-01T06:51:09.276382Z",
     "start_time": "2025-07-01T06:50:57.212287Z"
    }
   },
   "outputs": [],
   "source": [
    "'''\n",
    "Take 6 inputs, first input=student name\n",
    "rest of the 5 inputs are integer numbers\n",
    "mark them as S1,S2,S3,S4,S5\n",
    "Design a grade system, based on below conditions.\n",
    "\n",
    "No grade= Anything less than 35/100\n",
    "Diamond= 85-100\n",
    "Gold= 60-84\n",
    "Silver=36-59\n",
    "'''\n",
    "studName=input(\"Enter student's name:\")\n",
    "s1=int(input(\"Enter S1 number out of 100:\"))\n",
    "s2=int(input(\"Enter S2 number out of 100:\"))\n",
    "s3=int(input(\"Enter S3 number out of 100:\"))\n",
    "s4=int(input(\"Enter S4 number out of 100:\"))\n",
    "s5=int(input(\"Enter S5 number out of 100:\"))\n",
    "if s1>100 or s2>100 or s3>100 or s4>100 or s5>100:\n",
    "    print(\"Error, reinput all marks within 100\")\n",
    "\n",
    "\n",
    "sum=s1+s2+s3+s4+s5\n",
    "average=sum/5\n",
    "print(\"Total marks=\",sum)\n",
    "print(\"Average=\",average)\n",
    "\n",
    "\n",
    "if average>=0 and average<=35:\n",
    "    print(f\"{studName} achieved No Grade\")\n",
    "elif average>35 and average<60:\n",
    "    print(f\"{studName} achieved Silver Grade\")\n",
    "elif average>=60 and average<85:\n",
    "    print(f\"{studName} achieved Gold Grade\")\n",
    "else:\n",
    "    print(f\"{studName} achieved Diamond Grade\")\n"
   ]
  },
  {
   "cell_type": "code",
   "execution_count": null,
   "id": "3b4f7595bc7f3897",
   "metadata": {
    "ExecuteTime": {
     "end_time": "2025-07-01T07:02:27.290331Z",
     "start_time": "2025-07-01T07:02:23.728803Z"
    }
   },
   "outputs": [],
   "source": [
    "'''\n",
    "Take 3 sides of a triangle as an input, and notify whether your input can frame a triangle or not\n",
    "'''\n",
    "s1=int(input(\"Enter side 1\"))\n",
    "s2=int(input(\"Enter side 2\"))\n",
    "s3=int(input(\"Enter side 3\"))\n",
    "\n",
    "if (s1+s2)>s3 and (s2+s3)>s1 and (s1+s3)>s2:\n",
    "    print(\"Valid triangle\")\n",
    "else:\n",
    "    print(\"Invalid triangle\")"
   ]
  },
  {
   "cell_type": "code",
   "execution_count": null,
   "id": "2a54aef25673198e",
   "metadata": {
    "ExecuteTime": {
     "end_time": "2025-07-01T08:25:12.888168Z",
     "start_time": "2025-07-01T08:25:12.880057Z"
    }
   },
   "outputs": [],
   "source": [
    "#LOOPS\n",
    "for i in range(1,6,2):\n",
    "    print(i)\n",
    "for i in range(10,16):\n",
    "    print(i)\n",
    "\n",
    "i=1\n",
    "while(i<6):\n",
    "    print(i)\n",
    "    i+=1\n",
    "print(i)"
   ]
  },
  {
   "cell_type": "code",
   "execution_count": null,
   "id": "300e33dea6b378fe",
   "metadata": {
    "ExecuteTime": {
     "end_time": "2025-07-01T08:33:25.484625Z",
     "start_time": "2025-07-01T08:33:25.476583Z"
    }
   },
   "outputs": [],
   "source": [
    "#NESTING or NESTED FOR LOOPS\n",
    "'''\n",
    "FOR EVERY ITERATION OF OUTER LOOP, COMPLETE INNER LOOP WILL GET EXECUTED\n",
    "'''\n",
    "\n",
    "#THIS PROGRAM HAS LOOPS THAT EXECUTE 9 TIMES IN TOTAL\n",
    "for i in range(3):\n",
    "    for j in range(3):\n",
    "        print(\"i\",i)\n",
    "        print(\"j\",j)"
   ]
  },
  {
   "cell_type": "code",
   "execution_count": null,
   "id": "dbcb063392d7768d",
   "metadata": {
    "ExecuteTime": {
     "end_time": "2025-07-01T09:29:23.364129Z",
     "start_time": "2025-07-01T09:29:21.943185Z"
    }
   },
   "outputs": [],
   "source": [
    "#Num Guess Game\n",
    "import random\n",
    "n=random.randint(1,100)\n",
    "n1=int(input(\"Enter number:\"))\n",
    "if n1>=1 and n1<=100:\n",
    "    i=1\n",
    "    while(n1!=n):\n",
    "        if n1<n:\n",
    "            print(n1)\n",
    "            print(\"Low\\t\")\n",
    "        else:\n",
    "            print(n1)\n",
    "            print(\"High\\t\")\n",
    "        n1=int(input(\"Enter number:\"))\n",
    "        i+=1\n",
    "\n",
    "    print(\"Correct, the number was\",n)\n",
    "    print(\"Number of guesses:\",i)\n",
    "\n"
   ]
  },
  {
   "cell_type": "code",
   "execution_count": null,
   "id": "a1099b5ef4fb5f6e",
   "metadata": {
    "ExecuteTime": {
     "end_time": "2025-07-01T09:52:12.153512Z",
     "start_time": "2025-07-01T09:51:58.645776Z"
    }
   },
   "outputs": [],
   "source": [
    "#Try 2\n",
    "import random\n",
    "n=random.randint(1,100)\n",
    "for i in range(100):\n",
    "    count=1\n",
    "    n1=int(input(\"Enter number:\"))\n",
    "    if n1<n:\n",
    "        print(\"Low\")\n",
    "        count+=1\n",
    "    elif n1>n:\n",
    "        print(\"High\")\n",
    "        count+=1\n",
    "    else:\n",
    "        print(\"Correct\")\n",
    "        break\n",
    "print(\"Number is\",n)\n",
    "\n"
   ]
  },
  {
   "cell_type": "code",
   "execution_count": null,
   "id": "8b2e8372c4e7c65b",
   "metadata": {
    "ExecuteTime": {
     "end_time": "2025-07-01T09:56:52.037561Z",
     "start_time": "2025-07-01T09:56:49.706367Z"
    }
   },
   "outputs": [],
   "source": [
    "#Program to print Multiplication table for a given number\n",
    "table=int(input(\"Enter number:\"))\n",
    "for i in range(1,11):\n",
    "    print(f\"{table}x{i}={table*i}\")\n"
   ]
  },
  {
   "cell_type": "code",
   "execution_count": null,
   "id": "4a6c15021e179cd4",
   "metadata": {
    "ExecuteTime": {
     "end_time": "2025-07-01T10:07:49.677618Z",
     "start_time": "2025-07-01T10:07:45.707609Z"
    }
   },
   "outputs": [],
   "source": [
    "#Program to print multiple tables\n",
    "table1=int(input(\"Enter number1:\"))\n",
    "table2=int(input(\"Enter number2:\"))\n",
    "for i in range(table1,table2+1):\n",
    "    for j in range(1,11):\n",
    "        print(f\"{i}x{j}={i*j}\")\n",
    "    print()\n"
   ]
  },
  {
   "cell_type": "code",
   "execution_count": null,
   "id": "acb31dc41b08a364",
   "metadata": {
    "ExecuteTime": {
     "end_time": "2025-07-01T10:24:20.426795Z",
     "start_time": "2025-07-01T10:24:18.167052Z"
    }
   },
   "outputs": [],
   "source": [
    "'''\n",
    "For the given integer number from the user, find out sum of digits of given number\n",
    "'''\n",
    "n=int(input(\"Enter number:\"))\n",
    "print(\"Number is:\",n)\n",
    "sum=0\n",
    "while(n!=0):\n",
    "    rem=n%10\n",
    "    sum=sum+rem\n",
    "    if n//10!=0:\n",
    "        print(f\"{rem}+\",end='')\n",
    "    else:\n",
    "        print(f\"{rem}=\",end='')\n",
    "    n=n//10\n",
    "print(sum)\n"
   ]
  },
  {
   "cell_type": "code",
   "execution_count": null,
   "id": "269d21c2adb1d219",
   "metadata": {
    "ExecuteTime": {
     "end_time": "2025-07-01T10:36:26.913837Z",
     "start_time": "2025-07-01T10:36:18.449437Z"
    }
   },
   "outputs": [],
   "source": [
    "num1=int(input(\"Enter number1:\"))\n",
    "num2=int(input(\"Enter number2:\"))\n",
    "mainsum=0\n",
    "for i in range(num1,num2+1):\n",
    "    n=i\n",
    "    sum=0\n",
    "    while(n>0):\n",
    "        rem=n%10\n",
    "        sum=sum+rem\n",
    "        n=n//10\n",
    "    if sum%2==0:\n",
    "        print(sum,\"even\")git\n",
    "    else:\n",
    "        print(sum,\"odd\")\n",
    "    mainsum+=sum\n",
    "print(\"Sum of sum=\",mainsum)"
   ]
  },
  {
   "cell_type": "markdown",
   "id": "8896a5f5-4284-4a53-b7c4-65ca5431786c",
   "metadata": {},
   "source": [
    "2nd July 2025: Wednesday"
   ]
  },
  {
   "cell_type": "markdown",
   "id": "3e717003-8130-49ab-bdb8-fc1e24fbeac8",
   "metadata": {},
   "source": [
    "Functions\n",
    "1. Built-in functions:\n",
    "2. User Defined functions\n",
    "\n",
    "Instead of writing code for a particular concept repeatedly, we create it once and name it. Whenever that concept is required, just call that function.\n",
    "Note: Highest efficiency\n",
    "\n",
    "Types:\n",
    "1. Functions without arguments, without return value.\n",
    "2. Functions without arguments, with return value.\n",
    "3. Function with argument, without return value.\n",
    "4. Function with argument, with return value."
   ]
  },
  {
   "cell_type": "code",
   "execution_count": null,
   "id": "fd531698-e34f-443e-9ebb-fe34b92d0194",
   "metadata": {},
   "outputs": [],
   "source": [
    "#Without arg, without ret value\n",
    "def singer_add():\n",
    "    print(1+2+3)\n",
    "singer_add()\n",
    "print(\"Calling second time\")\n",
    "singer_add()"
   ]
  },
  {
   "cell_type": "code",
   "execution_count": null,
   "id": "51b78259-ebfb-46d8-8425-9f2a83668180",
   "metadata": {
    "scrolled": true
   },
   "outputs": [],
   "source": [
    "#Without arg, with ret value\n",
    "def singer_add():\n",
    "    res=1+2+3\n",
    "    return res\n",
    "    \n",
    "print(singer_add())"
   ]
  },
  {
   "cell_type": "code",
   "execution_count": null,
   "id": "5f3c8e9e-950d-4675-9a0e-59c68dfa6c33",
   "metadata": {},
   "outputs": [],
   "source": [
    "'''\n",
    "After taking 3 integer numbers from the user as input, multiply them and check whether the product is divisible by both 2 and 7. \n",
    "Op should be either yes or no\n",
    "TYPE 1: Function without argument, without return value\n",
    "\n",
    "'''\n",
    "def divCheckMain():\n",
    "    x=int(input(\"Enter x:\"))\n",
    "    y=int(input(\"Enter y:\"))\n",
    "    z=int(input(\"Enter z:\"))\n",
    "    prod=x*y*z\n",
    "    if prod%2==0 and prod%7==0:\n",
    "        print(\"Yes\")\n",
    "    else:\n",
    "        print(\"No\")\n",
    "\n",
    "divCheckMain()\n",
    "            \n",
    "        "
   ]
  },
  {
   "cell_type": "code",
   "execution_count": null,
   "id": "5692e5f7-40b7-440e-b648-74486f02f091",
   "metadata": {},
   "outputs": [],
   "source": [
    "'''\n",
    "After taking 3 integer numbers from the user as input, multiply them and check whether the product is divisible by both 2 and 7. \n",
    "Op should be either yes or no\n",
    "TYPE 2: Function without argument, with return value\n",
    "\n",
    "'''\n",
    "def divCheckMain():\n",
    "    x=int(input(\"Enter x:\"))\n",
    "    y=int(input(\"Enter y:\"))\n",
    "    z=int(input(\"Enter z:\"))\n",
    "    prod=x*y*z\n",
    "    if prod%2==0 and prod%7==0:\n",
    "        return \"Yes\"\n",
    "    else:\n",
    "        return \"No\"\n",
    "\n",
    "print(divCheckMain())\n",
    "            \n",
    "        "
   ]
  },
  {
   "cell_type": "code",
   "execution_count": null,
   "id": "07681661-262e-4a49-8628-2d76c6643610",
   "metadata": {},
   "outputs": [],
   "source": [
    "'''\n",
    "After taking 3 integer numbers from the user as input, multiply them and check whether the product is divisible by both 2 and 7. \n",
    "Op should be either yes or no\n",
    "TYPE 3: Function with argument without return value\n",
    "\n",
    "'''\n",
    "def divCheckMain(x,y,z):\n",
    "    prod=x*y*z\n",
    "    if prod%2==0 and prod%7==0:\n",
    "        print(\"Yes\")\n",
    "    else:\n",
    "        print(\"No\")\n",
    "\n",
    "x=int(input(\"Enter x:\"))\n",
    "y=int(input(\"Enter y:\"))\n",
    "z=int(input(\"Enter z:\"))\n",
    "divCheckMain(x,y,z)\n",
    "            \n",
    "        "
   ]
  },
  {
   "cell_type": "code",
   "execution_count": null,
   "id": "7e0d2ffc-a9fd-45b9-99b7-6799a48b568e",
   "metadata": {},
   "outputs": [],
   "source": [
    "'''\n",
    "After taking 3 integer numbers from the user as input, multiply them and check whether the product is divisible by both 2 and 7. \n",
    "Op should be either yes or no\n",
    "TYPE 4: Function with argument with return value\n",
    "\n",
    "'''\n",
    "def divCheckMain(x,y,z):\n",
    "    prod=x*y*z\n",
    "    if prod%2==0 and prod%7==0:\n",
    "        return \"Yes\"\n",
    "    else:\n",
    "        return \"No\"\n",
    "\n",
    "x=int(input(\"Enter x:\"))\n",
    "y=int(input(\"Enter y:\"))\n",
    "z=int(input(\"Enter z:\"))\n",
    "print(divCheckMain(x,y,z))            \n",
    "        "
   ]
  },
  {
   "cell_type": "code",
   "execution_count": null,
   "id": "6a5f08ae-b760-42c5-90bf-521f38ba6c37",
   "metadata": {},
   "outputs": [],
   "source": [
    "'''\n",
    "Check and print factors for all the given numbers, and use function type 3 and 4\n",
    "#Type3\n",
    "x=int(input(\"Enter number here:\"))\n",
    "def factorCheck(x):\n",
    "    for i in range(1,(x//2)+1):\n",
    "        if x%i==0:\n",
    "            print(i,end=' ')\n",
    "factorCheck(x)\n",
    "print(x)\n",
    "'''\n",
    "#Type 4\n",
    "x=int(input(\"Enter number here:\"))\n",
    "def factorCheck(x):\n",
    "    for i in range(1,(x//2)+1):\n",
    "        if x%i==0:\n",
    "            yield i\n",
    "            \n",
    "for j in factorCheck(x):\n",
    "    print(j,end=' ')\n",
    "print(x)\n"
   ]
  },
  {
   "cell_type": "code",
   "execution_count": null,
   "id": "2ee09960-3e10-430e-a9ba-afdc05ff01ea",
   "metadata": {},
   "outputs": [],
   "source": [
    "def add(n,i):\n",
    "    \n",
    "    if n%i==0:\n",
    "        return i\n",
    "    else:\n",
    "        return \"a\"\n",
    "n=int(input())\n",
    "for i in range(1,(n//2)+1):\n",
    "    r=add(n,i)\n",
    "    if r!=\"a\":\n",
    "        print(r)\n",
    "print(n)"
   ]
  },
  {
   "cell_type": "markdown",
   "id": "6c6dd46f-525e-4ad8-ae8b-1d6a1d89531c",
   "metadata": {},
   "source": [
    "Data Structures:\n",
    "\n",
    "In order to maintain tons of data in an efficient way, we use data structures. \n",
    "Types:\n",
    "1. Linear\n",
    "2. Non Linear\n",
    "\n",
    "Linear:\n",
    "Arrays, Stack, Queue, Linked List.\n",
    "\n",
    "Non Linear:\n",
    "Trees, Graphs, Hashing.\n",
    "\n",
    "DataStructures in Python:\n",
    "List, Set, Tuple, and Dictionary."
   ]
  },
  {
   "cell_type": "markdown",
   "id": "d63a4964-601e-419b-a189-d46feb1c9026",
   "metadata": {},
   "source": [
    "List:\n",
    "It is equivalent to an array. However, it can store different data of varying data types. This is a huge advantage, unlike usual arrays in language like C and Cpp.\n",
    "\n"
   ]
  },
  {
   "cell_type": "code",
   "execution_count": null,
   "id": "e6317c25-afba-458c-a1cb-0d9227c48fda",
   "metadata": {},
   "outputs": [],
   "source": [
    "#List is mutable. Allows duplicate values. Any datatypes can be stored. Has indexing\n",
    "arr=[1,2,3,4]\n",
    "print(type(arr))\n",
    "\n",
    "#Set stores an unordered collection of unique items (no duplicates), ideal for membership tests, removing duplicates, and set \n",
    "#operations like union and intersection. Also has no indexing\n",
    "s={10,20,30}\n",
    "print(type(s))\n",
    "\n",
    "#Tuple for ordered, immutable data that shouldnt be changed. Has indexing\n",
    "t=(2,5,6)\n",
    "print(type(t))\n",
    "\n",
    "#Dictionary is used for storing key value pairs. Allows fast insertion, lookup and deletion by key; commonly used for structured data, mappings and configurations.\n",
    "'''\n",
    "Dictionaries are also mutable. They can also store duplicate values, but not duplicate keys. i.e Keys are unique. Indexing is key-based.\n",
    "'''\n",
    "d={0:\"afsal\", 1:\"midhun\"}\n",
    "for i in d:\n",
    "    print(i,d[i])"
   ]
  },
  {
   "cell_type": "code",
   "execution_count": null,
   "id": "c5e23345-6738-4bd1-a314-7a5f5fe5955a",
   "metadata": {},
   "outputs": [],
   "source": [
    "arr=[10,20,30,1]\n",
    "l=len(arr)\n",
    "print(l)\n",
    "print(arr)\n",
    "\n",
    "\n",
    "#We can extract elements from a list using either membership operator ('in' or 'not in'), or by using indexing\n",
    "\n",
    "#Membership operator:\n",
    "print(\"Membership operator based:\")\n",
    "for i in arr:\n",
    "    print(i)\n",
    "\n",
    "print(\"Index-based:\")\n",
    "for i in range(len(arr)):\n",
    "    print(arr[i])\n",
    "print(\"2nd index element:\",arr[2])\n"
   ]
  },
  {
   "cell_type": "markdown",
   "id": "2a19671a-3ea2-43d4-8581-cd1f921bfe29",
   "metadata": {},
   "source": [
    "Inbuilt list functions:\n",
    "1. append(element): To add a single element at the end\n",
    "2. extend([listOfElements]): To add all elements to another list to a main list\n",
    "3. insert(index,element): to insert an item at the defined index\n",
    "4. remove(elementValue): Removes an item from the list\n",
    "5. pop(index): Removes and returns an element at the given index\n",
    "6. clear(): Removes all items from the list\n",
    "7. index(itemToMatch): Returns the index of the first matched item.\n",
    "8. count(): Returns count of the number of items passed as an argument.\n",
    "9. sort(): sort itemsin a list in ascending order.\n",
    "10. reverse(): reverse the order of items in the list.\n",
    "11. copy(): Returns a shallow copy of the list."
   ]
  },
  {
   "cell_type": "code",
   "execution_count": null,
   "id": "302b9c4e-bd50-4a17-a57e-9a292a610fad",
   "metadata": {},
   "outputs": [],
   "source": [
    "k=[10,3,5,7,100]\n",
    "print(k)\n",
    "k.append(50)\n",
    "print('Appended',k)\n",
    "k.extend([40,29,78])\n",
    "print('Extended',k)\n",
    "k.insert(2,23)\n",
    "print('Inserted at index 2',k)\n",
    "k.remove(40)\n",
    "print('Removed the value 40',k)\n",
    "k.pop(2)\n",
    "print('Element at index 2 has been popped',k)\n",
    "x=k.index(100)\n",
    "print(f'Element 100 is located at index {x} of array',k)\n",
    "y=k.count(100)\n",
    "print(f'Element 100 occurs {y} times in the array',k)\n",
    "k.sort()\n",
    "print('Sorted Array',k)\n",
    "k.reverse()\n",
    "print('Reversed array',k)\n",
    "a=k.copy()\n",
    "print('Copied array',a)\n",
    "n=k\n",
    "n.clear()\n",
    "print('Cleared array',n)"
   ]
  },
  {
   "cell_type": "code",
   "execution_count": null,
   "id": "7a1fa396-9c8d-414b-9462-16a4db2ac307",
   "metadata": {
    "scrolled": true
   },
   "outputs": [],
   "source": [
    "'''\n",
    "Dynamic Array: User inputs all the elements\n",
    "'''\n",
    "arr=[] \n",
    "print(\"Enter elements to your choosing. Press 'n' when finished.\")\n",
    "while(1):\n",
    "    ele=input(\"Enter element:\")\n",
    "    if ele=='n':\n",
    "        break\n",
    "    else:\n",
    "        arr.append(int(ele))\n",
    "print(\"Array is:\",arr)"
   ]
  },
  {
   "cell_type": "code",
   "execution_count": null,
   "id": "68a3534d-7b0c-4344-b03b-053ddd6f6da3",
   "metadata": {},
   "outputs": [],
   "source": [
    "def biggest(g):\n",
    "    big=g[0]\n",
    "    for j in range(1,len(g)):\n",
    "        if g[j]>big:\n",
    "            big=g[j]\n",
    "    return big\n",
    "def smallest(g):\n",
    "    smol=g[0]\n",
    "    for j in range(1,len(g)):\n",
    "        if g[j]<smol:\n",
    "            smol=g[j]\n",
    "    return smol\n",
    "    \n",
    "g=[]\n",
    "\n",
    "for i in range(s):\n",
    "    x=input(f\"Enter num {i+1}:\")\n",
    "    if x=='n':\n",
    "        break\n",
    "    else:\n",
    "        g.append(int(x))\n",
    "\n",
    "print(\"Largest number in the array is:\", biggest(g))\n",
    "print(\"Smallest number in the array is:\", smallest(g))\n"
   ]
  },
  {
   "cell_type": "code",
   "execution_count": null,
   "id": "aa146b0c-16be-4632-8874-ae15b85b4a22",
   "metadata": {},
   "outputs": [],
   "source": [
    "'''\n",
    "Extract and print prime numbers alone from your array. If there is no prime number, print zero\n",
    "'''\n",
    "arr=[]\n",
    "final=[]\n",
    "s=10\n",
    "for i in range(s):\n",
    "    x=int(input(\"Enter\"))\n",
    "    arr.append(x)\n",
    "for i in arr:\n",
    "    y=[]\n",
    "    for j in range(1,(i//2)+1):\n",
    "        if i%j==0:\n",
    "            y.append(j)\n",
    "    y.append(i)\n",
    "    if len(y)==2:\n",
    "        final.append(i)\n",
    "print(\"Main array is:\",arr)\n",
    "print(\"Prime elements are:\",final)\n",
    "        "
   ]
  },
  {
   "cell_type": "code",
   "execution_count": null,
   "id": "8f42d015-3d91-416a-8428-165e7a393c22",
   "metadata": {},
   "outputs": [],
   "source": [
    "'''\n",
    "Alt method\n",
    "'''\n",
    "arr=[1,12,14,16]\n",
    "final=[]\n",
    "finalFlag=0\n",
    "for i in arr:\n",
    "    flag=0\n",
    "    for j in range(2,(i//2)+1):\n",
    "        if i%j==0:\n",
    "            flag=1\n",
    "            break\n",
    "    if flag==0:\n",
    "        print(i)\n",
    "        finalFlag=1\n",
    "if finalFlag==0:\n",
    "    print(\"No prime numbers\")\n",
    "else:\n",
    "    print(\"yes\")"
   ]
  },
  {
   "cell_type": "code",
   "execution_count": null,
   "id": "e429004b-5c6e-437b-b4cc-84be6a1b5577",
   "metadata": {},
   "outputs": [],
   "source": [
    "ip=input(\"Enter string:\")\n",
    "level=0\n",
    "for i in range(len(ip)):\n",
    "    if ip[i] in 'uU':\n",
    "        level+=1\n",
    "    elif ip[i] in 'dD':\n",
    "        level-=1\n",
    "    else:\n",
    "        print(\"Invalid string. Retry\")\n",
    "if level>0:\n",
    "    print(\"Above sea level\")\n",
    "    print(f\"-{level}D to reach sea level.\") \n",
    "elif level==0:\n",
    "    print(\"At sea level\")\n",
    "else:\n",
    "    level=-(level)\n",
    "    print(\"Below sea level\")\n",
    "    print(f\"{level}U to reach sea level\") "
   ]
  },
  {
   "cell_type": "code",
   "execution_count": null,
   "id": "ee6f8951-942f-42ce-ada5-f39d8b25f55a",
   "metadata": {},
   "outputs": [],
   "source": [
    "level=8\n",
    "afsal=10\n",
    "print(\"+\",level,\"U\",afsal,sep='')\n",
    "print(f\"+{level}U, {afsal}\")"
   ]
  },
  {
   "cell_type": "code",
   "execution_count": null,
   "id": "0bd0b6a6-9a57-4ed2-84e3-5ab22a79040f",
   "metadata": {},
   "outputs": [],
   "source": [
    "'''\n",
    "Program to find out the second largest number in the given list of numbers\n",
    "'''\n",
    "a=[]\n",
    "while(1):\n",
    "    x=input(\"Enter:\")\n",
    "    if x=='n':\n",
    "        break\n",
    "    else:\n",
    "        a.append(int(x))\n",
    "max1=0\n",
    "max2=0\n",
    "if a[0]>a[1]:\n",
    "    max1=a[0]\n",
    "    max2=a[1]\n",
    "else:\n",
    "    max1=a[1]\n",
    "    max2=a[0]\n",
    "for i in range(2,len(a)):\n",
    "    if a[i]>max1:\n",
    "        max2=max1\n",
    "        max1=a[i]\n",
    "    elif a[i]<max1 and a[i]>max2:\n",
    "        max2=a[i]\n",
    "        \n",
    "print(\"Largest=\",max1)\n",
    "print(\"Second Largest=\",max2)\n",
    "        \n",
    "    "
   ]
  },
  {
   "cell_type": "markdown",
   "id": "0bf6802a-a073-44d3-9e12-3357912fe8e7",
   "metadata": {},
   "source": [
    "[19   45   12   9   6   7   32]\n",
    "max1=45\n",
    "max2=19\n",
    "\n",
    "12---> "
   ]
  },
  {
   "cell_type": "code",
   "execution_count": 53,
   "id": "eff3f5e3-cc05-46d3-b5a6-ebed93890b1d",
   "metadata": {},
   "outputs": [
    {
     "name": "stdin",
     "output_type": "stream",
     "text": [
      "Enter: 2\n",
      "Enter: 3\n",
      "Enter: 4\n",
      "Enter: 2\n",
      "Enter: 2\n",
      "Enter: 3\n",
      "Enter: 4\n",
      "Enter: 4\n",
      "Enter: 4\n",
      "Enter: 45\n",
      "Enter: 79\n",
      "Enter: 45\n",
      "Enter: 45\n",
      "Enter: 23\n",
      "Enter: 23\n",
      "Enter: 23\n",
      "Enter: 19\n",
      "Enter: n\n"
     ]
    },
    {
     "name": "stdout",
     "output_type": "stream",
     "text": [
      "[2, 3, 4, 2, 2, 3, 4, 4, 4, 45, 79, 45, 45, 23, 23, 23, 19]\n",
      "First Largest= 79\n",
      "Second Largest= 45\n",
      "Third Largest= 23\n"
     ]
    }
   ],
   "source": [
    "#Program to find third largest number\n",
    "a=[]\n",
    "while(1):\n",
    "    x=input(\"Enter:\")\n",
    "    if x=='n':\n",
    "        break\n",
    "    else:\n",
    "        a.append(int(x))\n",
    "\n",
    "max1=0\n",
    "max2=0\n",
    "max3=0\n",
    "if a[0]>a[1] and a[0]>a[2]:\n",
    "    max1=a[0]\n",
    "    if a[1]>a[2]:\n",
    "        max2=a[1]\n",
    "        max3=a[2]\n",
    "    else:\n",
    "        max2=a[2]\n",
    "        max3=a[1]\n",
    "elif a[1]>a[0] and a[1]>a[2]:\n",
    "    max1=a[1]\n",
    "    if a[0]>a[2]:\n",
    "        max2=a[0]\n",
    "        max3=a[2]\n",
    "    else:\n",
    "        max2=a[2]\n",
    "        max3=a[0]\n",
    "else:\n",
    "    max1=a[2]\n",
    "    if a[0]>a[1]:\n",
    "        max2=a[0]\n",
    "        max3=a[1]\n",
    "    else:\n",
    "        max2=a[1]\n",
    "        max3=a[0]\n",
    "\n",
    "for i in range(3,len(a)):\n",
    "    if a[i]>max1:\n",
    "        max3=max2\n",
    "        max2=max1\n",
    "        max1=a[i]\n",
    "    elif a[i]<max1 and a[i]>max2:\n",
    "        max3=max2\n",
    "        max2=a[i]\n",
    "    elif a[i]>max3 and a[i]<max2:\n",
    "        max3=a[i]\n",
    "print(a)\n",
    "print(\"First Largest=\",max1)\n",
    "print(\"Second Largest=\",max2)\n",
    "print(\"Third Largest=\",max3)"
   ]
  },
  {
   "cell_type": "code",
   "execution_count": null,
   "id": "52706888-1ade-456b-86a5-c4c5d8f6efef",
   "metadata": {},
   "outputs": [],
   "source": [
    "#Bubble Sort: Basic sort\n",
    "\n",
    "a=[10,7,3,6,8]\n",
    "for i in range(len(a)):\n",
    "    for j in range(i+1,len(a)):\n",
    "        if a[i]>a[j]:\n",
    "            temp=a[i]\n",
    "            a[i]=a[j]\n",
    "            a[j]=temp\n",
    "print(\"Ascending sorted array:\",a)"
   ]
  },
  {
   "cell_type": "code",
   "execution_count": 45,
   "id": "d4309c0d-c64a-4477-a2ef-9440b79c329e",
   "metadata": {},
   "outputs": [
    {
     "name": "stdin",
     "output_type": "stream",
     "text": [
      "Enter: 2\n",
      "Enter: 3\n",
      "Enter: 3\n",
      "Enter: 3\n",
      "Enter: 4\n",
      "Enter: 4\n",
      "Enter: 5\n",
      "Enter: 5\n",
      "Enter: 5\n",
      "Enter: 5\n",
      "Enter: 5\n",
      "Enter: 8\n",
      "Enter: 7\n",
      "Enter: 8\n",
      "Enter: 9\n",
      "Enter: 9\n",
      "Enter: 10\n",
      "Enter: 10\n",
      "Enter: n\n"
     ]
    },
    {
     "name": "stdout",
     "output_type": "stream",
     "text": [
      "Array without duplicates: [2, 3, 4, 5, 7, 8, 9, 10]\n",
      "Third largest number: 8\n"
     ]
    }
   ],
   "source": [
    "# Optimised Third Largest Number Code:\n",
    "a=[]\n",
    "while(1):\n",
    "    x=input(\"Enter:\")\n",
    "    if x=='n':\n",
    "        break\n",
    "    else:\n",
    "        a.append(int(x))\n",
    "        \n",
    "for i in range(len(a)):\n",
    "    for j in range(i+1,len(a)):\n",
    "        if a[i]>a[j]:\n",
    "            temp=a[i]\n",
    "            a[i]=a[j]\n",
    "            a[j]=temp\n",
    "a1=[]\n",
    "for i in a:\n",
    "    if i not in a1:\n",
    "        a1.append(i)\n",
    "print(\"Array without duplicates:\",a1)\n",
    "print(\"Third largest number:\",a1[-3])"
   ]
  },
  {
   "cell_type": "code",
   "execution_count": null,
   "id": "581078c6-d11e-407a-ada5-078cd081e8fb",
   "metadata": {},
   "outputs": [],
   "source": [
    "#Timsort: The most efficient sorting algorithm in Python\n",
    "def insertion_sort(arr, left=0, right=None):\n",
    "    if right is None:\n",
    "        right = len(arr) - 1\n",
    "    for i in range(left + 1, right + 1):\n",
    "        key = arr[i]\n",
    "        j = i - 1\n",
    "        while j >= left and arr[j] > key:\n",
    "            arr[j + 1] = arr[j]\n",
    "            j -= 1\n",
    "        arr[j + 1] = key\n",
    "\n",
    "def merge(left, right):\n",
    "    result = []\n",
    "    i = j = 0\n",
    "    while i < len(left) and j < len(right):\n",
    "        if left[i] <= right[j]:\n",
    "            result.append(left[i])\n",
    "            i += 1\n",
    "        else:\n",
    "            result.append(right[j])\n",
    "            j += 1\n",
    "    result.extend(left[i:])\n",
    "    result.extend(right[j:])\n",
    "    return result\n",
    "\n",
    "def timsort(arr):\n",
    "    min_run = 32  # For 5 elements, one run\n",
    "    n = len(arr)\n",
    "    # Sort small runs using insertion sort\n",
    "    for i in range(0, n, min_run):\n",
    "        insertion_sort(arr, i, min(i + min_run - 1, n - 1))\n",
    "    size = min_run\n",
    "    while size < n:\n",
    "        for start in range(0, n, size * 2):\n",
    "            mid = start + size - 1\n",
    "            end = min((start + size * 2 - 1), n - 1)\n",
    "            if mid < end:\n",
    "                merged = merge(arr[start:mid + 1], arr[mid + 1:end + 1])\n",
    "                arr[start:start + len(merged)] = merged\n",
    "        size *= 2\n",
    "    return arr\n",
    "\n",
    "# Example usage:\n",
    "arr = [5, 2, 4, 3, 1]\n",
    "sorted_arr = timsort(arr)\n",
    "print(sorted_arr)  # Output: [1, 2, 3, 4, 5]\n"
   ]
  }
 ],
 "metadata": {
  "kernelspec": {
   "display_name": "Python 3 (ipykernel)",
   "language": "python",
   "name": "python3"
  },
  "language_info": {
   "codemirror_mode": {
    "name": "ipython",
    "version": 3
   },
   "file_extension": ".py",
   "mimetype": "text/x-python",
   "name": "python",
   "nbconvert_exporter": "python",
   "pygments_lexer": "ipython3",
   "version": "3.12.4"
  }
 },
 "nbformat": 4,
 "nbformat_minor": 5
}
