{
 "cells": [
  {
   "cell_type": "markdown",
   "id": "7b29a59b4a8fc47d",
   "metadata": {
    "editable": true,
    "slideshow": {
     "slide_type": ""
    },
    "tags": []
   },
   "source": [
    "Python is pretty famous for 2 things:\n",
    "1. Lot of inbuilt modules.\n",
    "2. It supports past, present and future technologies.\n",
    "\n",
    "Python is called as a scripting language.\n"
   ]
  },
  {
   "cell_type": "code",
   "execution_count": 1,
   "id": "initial_id",
   "metadata": {
    "ExecuteTime": {
     "end_time": "2025-07-01T05:09:24.197157Z",
     "start_time": "2025-07-01T05:09:24.188439Z"
    },
    "collapsed": true,
    "jupyter": {
     "outputs_hidden": true
    }
   },
   "outputs": [
    {
     "name": "stdout",
     "output_type": "stream",
     "text": [
      "123 321 pqr\n"
     ]
    }
   ],
   "source": [
    "name=123\n",
    "Name=321\n",
    "#123Name=\"abc\"\n",
    "_123name=\"pqr\"\n",
    "#name$123=\"fgh\"\n",
    "print(name,Name,_123name)"
   ]
  },
  {
   "cell_type": "code",
   "execution_count": 2,
   "id": "220a7e46ef958268",
   "metadata": {
    "ExecuteTime": {
     "end_time": "2025-07-01T05:09:59.656491Z",
     "start_time": "2025-07-01T05:09:59.613686Z"
    }
   },
   "outputs": [
    {
     "name": "stdout",
     "output_type": "stream",
     "text": [
      "(10+5j)\n"
     ]
    },
    {
     "data": {
      "text/plain": [
       "complex"
      ]
     },
     "execution_count": 2,
     "metadata": {},
     "output_type": "execute_result"
    }
   ],
   "source": [
    "#Complex class\n",
    "print(10+5j)\n",
    "type(10+5j)"
   ]
  },
  {
   "cell_type": "code",
   "execution_count": 3,
   "id": "e407410cbef1bbc0",
   "metadata": {
    "ExecuteTime": {
     "end_time": "2025-07-01T05:11:33.303323Z",
     "start_time": "2025-07-01T05:11:31.798528Z"
    }
   },
   "outputs": [
    {
     "name": "stdout",
     "output_type": "stream",
     "text": [
      "100 <class 'int'>\n",
      "23.56 <class 'float'>\n",
      "hello <class 'str'>\n",
      "(100+7j) <class 'complex'>\n"
     ]
    }
   ],
   "source": [
    "n1=100\n",
    "print(n1,type(n1))\n",
    "n2=23.56\n",
    "n3=\"hello\"\n",
    "n4=100+7j\n",
    "print(n2,type(n2))\n",
    "\n",
    "print(n3,type(n3))\n",
    "\n",
    "print(n4,type(n4))\n"
   ]
  },
  {
   "cell_type": "code",
   "execution_count": 4,
   "id": "e53bf87b98691599",
   "metadata": {
    "ExecuteTime": {
     "end_time": "2025-07-01T05:11:57.621955Z",
     "start_time": "2025-07-01T05:11:50.361542Z"
    }
   },
   "outputs": [
    {
     "name": "stdout",
     "output_type": "stream",
     "text": [
      "Sum= 24\n"
     ]
    }
   ],
   "source": [
    "#dynamic input\n",
    "n1=int(input(\"Enter num1 here:\"))\n",
    "n2=int(input(\"Enter num2 here:\"))\n",
    "print(\"Sum=\",n1+n2)"
   ]
  },
  {
   "cell_type": "code",
   "execution_count": 6,
   "id": "f8d8145a7199f36a",
   "metadata": {
    "ExecuteTime": {
     "end_time": "2025-07-01T05:21:24.649612Z",
     "start_time": "2025-07-01T05:21:19.351484Z"
    }
   },
   "outputs": [
    {
     "name": "stdout",
     "output_type": "stream",
     "text": [
      "Sum is 7\n",
      "Difference is 3\n",
      "Product is 10\n",
      "Float Quotient is 2.5\n",
      "Integer Quotient is 2\n",
      "Remainder is 1\n"
     ]
    }
   ],
   "source": [
    "#Take 2 integer numbers as input from the user, and design a calculator +-x/%\n",
    "x=int(input(\"Enter first number here:\"))\n",
    "y=int(input(\"Enter second number here:\"))\n",
    "add=x+y\n",
    "if x>y:\n",
    "    dif=x-y\n",
    "else:\n",
    "    dif=y-x\n",
    "prod=x*y\n",
    "quotFloat=x/y\n",
    "quotInt=x//y\n",
    "remain=x%y\n",
    "\n",
    "print(\"Sum is\",add)\n",
    "print(\"Difference is\",dif)\n",
    "print(\"Product is\",prod)\n",
    "print(\"Float Quotient is\",quotFloat)\n",
    "print(\"Integer Quotient is\",quotInt)\n",
    "print(\"Remainder is\",remain)"
   ]
  },
  {
   "cell_type": "code",
   "execution_count": 9,
   "id": "feb42e5d3e498fce",
   "metadata": {
    "ExecuteTime": {
     "end_time": "2025-07-01T05:35:15.877860Z",
     "start_time": "2025-07-01T05:35:11.148883Z"
    }
   },
   "outputs": [
    {
     "name": "stdout",
     "output_type": "stream",
     "text": [
      "3.0\n"
     ]
    }
   ],
   "source": [
    "a=float(input(\"Enter num1\"))\n",
    "b=float(input(\"num2\"))\n",
    "'''a=int(a)\n",
    "b=int(b)'''\n",
    "add=a+b\n",
    "print(add)"
   ]
  },
  {
   "cell_type": "code",
   "execution_count": 5,
   "id": "c45660e9f4120f3d",
   "metadata": {
    "ExecuteTime": {
     "end_time": "2025-07-01T06:07:28.044081Z",
     "start_time": "2025-07-01T06:07:28.036790Z"
    }
   },
   "outputs": [
    {
     "name": "stdout",
     "output_type": "stream",
     "text": [
      "Sam has 56.25\n",
      "Angel has 18.75\n"
     ]
    }
   ],
   "source": [
    "'''Sam and Angel are good friends. Sam bought 75 candies, he gives half of it to angel since angel likes sam a lot, she gives back half. Calculate and print how many sam and angel have individually.'''\n",
    "sam=75\n",
    "angel=0.5*sam\n",
    "\n",
    "sam=0.5*sam+0.5*angel\n",
    "angel=0.5*angel\n",
    "\n",
    "print(\"Sam has\",sam)\n",
    "print(\"Angel has\",angel)"
   ]
  },
  {
   "cell_type": "code",
   "execution_count": 6,
   "id": "a89b007deefac97b",
   "metadata": {
    "ExecuteTime": {
     "end_time": "2025-07-01T06:23:53.902535Z",
     "start_time": "2025-07-01T06:23:53.894094Z"
    }
   },
   "outputs": [
    {
     "name": "stdout",
     "output_type": "stream",
     "text": [
      "Sam has 56.25\n",
      "Angel has 18.75\n"
     ]
    }
   ],
   "source": [
    "# No variable version\n",
    "print(\"Sam has\", 0.5 * 75 + 0.5 * (0.5 * 75))\n",
    "print(\"Angel has\", 0.5 * (0.5 * 75))\n"
   ]
  },
  {
   "cell_type": "code",
   "execution_count": 7,
   "id": "19a91213f596672",
   "metadata": {
    "ExecuteTime": {
     "end_time": "2025-07-01T06:29:35.951327Z",
     "start_time": "2025-07-01T06:29:30.432026Z"
    }
   },
   "outputs": [
    {
     "name": "stdout",
     "output_type": "stream",
     "text": [
      "Eligible to get married\n"
     ]
    }
   ],
   "source": [
    "age_men=int(input(\"Enter age\"))\n",
    "if age_men>21:\n",
    "    print(\"Eligible to get married\")\n",
    "else:\n",
    "    print(\"You are a kiddo, wait for some more time\")"
   ]
  },
  {
   "cell_type": "code",
   "execution_count": 11,
   "id": "f2af00c59d35998a",
   "metadata": {
    "ExecuteTime": {
     "end_time": "2025-07-01T06:51:09.276382Z",
     "start_time": "2025-07-01T06:50:57.212287Z"
    }
   },
   "outputs": [
    {
     "name": "stdout",
     "output_type": "stream",
     "text": [
      "Total marks= 146\n",
      "Average= 29.2\n",
      "x achieved No Grade\n"
     ]
    }
   ],
   "source": [
    "'''\n",
    "Take 6 inputs, first input=student name\n",
    "rest of the 5 inputs are integer numbers\n",
    "mark them as S1,S2,S3,S4,S5\n",
    "Design a grade system, based on below conditions.\n",
    "\n",
    "No grade= Anything less than 35/100\n",
    "Diamond= 85-100\n",
    "Gold= 60-84\n",
    "Silver=36-59\n",
    "'''\n",
    "studName=input(\"Enter student's name:\")\n",
    "s1=int(input(\"Enter S1 number out of 100:\"))\n",
    "s2=int(input(\"Enter S2 number out of 100:\"))\n",
    "s3=int(input(\"Enter S3 number out of 100:\"))\n",
    "s4=int(input(\"Enter S4 number out of 100:\"))\n",
    "s5=int(input(\"Enter S5 number out of 100:\"))\n",
    "if s1>100 or s2>100 or s3>100 or s4>100 or s5>100:\n",
    "    print(\"Error, reinput all marks within 100\")\n",
    "\n",
    "\n",
    "sum=s1+s2+s3+s4+s5\n",
    "average=sum/5\n",
    "print(\"Total marks=\",sum)\n",
    "print(\"Average=\",average)\n",
    "\n",
    "\n",
    "if average>=0 and average<=35:\n",
    "    print(f\"{studName} achieved No Grade\")\n",
    "elif average>35 and average<60:\n",
    "    print(f\"{studName} achieved Silver Grade\")\n",
    "elif average>=60 and average<85:\n",
    "    print(f\"{studName} achieved Gold Grade\")\n",
    "else:\n",
    "    print(f\"{studName} achieved Diamond Grade\")\n"
   ]
  },
  {
   "cell_type": "code",
   "execution_count": 18,
   "id": "3b4f7595bc7f3897",
   "metadata": {
    "ExecuteTime": {
     "end_time": "2025-07-01T07:02:27.290331Z",
     "start_time": "2025-07-01T07:02:23.728803Z"
    }
   },
   "outputs": [
    {
     "name": "stdout",
     "output_type": "stream",
     "text": [
      "Valid triangle\n"
     ]
    }
   ],
   "source": [
    "'''\n",
    "Take 3 sides of a triangle as an input, and notify whether your input can frame a triangle or not\n",
    "'''\n",
    "s1=int(input(\"Enter side 1\"))\n",
    "s2=int(input(\"Enter side 2\"))\n",
    "s3=int(input(\"Enter side 3\"))\n",
    "\n",
    "if (s1+s2)>s3 and (s2+s3)>s1 and (s1+s3)>s2:\n",
    "    print(\"Valid triangle\")\n",
    "else:\n",
    "    print(\"Invalid triangle\")"
   ]
  },
  {
   "cell_type": "code",
   "execution_count": 1,
   "id": "2a54aef25673198e",
   "metadata": {
    "ExecuteTime": {
     "end_time": "2025-07-01T08:25:12.888168Z",
     "start_time": "2025-07-01T08:25:12.880057Z"
    }
   },
   "outputs": [
    {
     "name": "stdout",
     "output_type": "stream",
     "text": [
      "1\n",
      "3\n",
      "5\n",
      "10\n",
      "11\n",
      "12\n",
      "13\n",
      "14\n",
      "15\n",
      "1\n",
      "2\n",
      "3\n",
      "4\n",
      "5\n",
      "6\n"
     ]
    }
   ],
   "source": [
    "#LOOPS\n",
    "for i in range(1,6,2):\n",
    "    print(i)\n",
    "for i in range(10,16):\n",
    "    print(i)\n",
    "\n",
    "i=1\n",
    "while(i<6):\n",
    "    print(i)\n",
    "    i+=1\n",
    "print(i)"
   ]
  },
  {
   "cell_type": "code",
   "execution_count": 3,
   "id": "300e33dea6b378fe",
   "metadata": {
    "ExecuteTime": {
     "end_time": "2025-07-01T08:33:25.484625Z",
     "start_time": "2025-07-01T08:33:25.476583Z"
    }
   },
   "outputs": [
    {
     "name": "stdout",
     "output_type": "stream",
     "text": [
      "i 0\n",
      "j 0\n",
      "i 0\n",
      "j 1\n",
      "i 0\n",
      "j 2\n",
      "i 1\n",
      "j 0\n",
      "i 1\n",
      "j 1\n",
      "i 1\n",
      "j 2\n",
      "i 2\n",
      "j 0\n",
      "i 2\n",
      "j 1\n",
      "i 2\n",
      "j 2\n"
     ]
    }
   ],
   "source": [
    "#NESTING or NESTED FOR LOOPS\n",
    "'''\n",
    "FOR EVERY ITERATION OF OUTER LOOP, COMPLETE INNER LOOP WILL GET EXECUTED\n",
    "'''\n",
    "\n",
    "#THIS PROGRAM HAS LOOPS THAT EXECUTE 9 TIMES IN TOTAL\n",
    "for i in range(3):\n",
    "    for j in range(3):\n",
    "        print(\"i\",i)\n",
    "        print(\"j\",j)"
   ]
  },
  {
   "cell_type": "code",
   "execution_count": 8,
   "id": "dbcb063392d7768d",
   "metadata": {
    "ExecuteTime": {
     "end_time": "2025-07-01T09:29:23.364129Z",
     "start_time": "2025-07-01T09:29:21.943185Z"
    }
   },
   "outputs": [
    {
     "name": "stdin",
     "output_type": "stream",
     "text": [
      "Enter number: 55\n"
     ]
    },
    {
     "name": "stdout",
     "output_type": "stream",
     "text": [
      "55\n",
      "Low\t\n"
     ]
    },
    {
     "name": "stdin",
     "output_type": "stream",
     "text": [
      "Enter number: 68\n"
     ]
    },
    {
     "name": "stdout",
     "output_type": "stream",
     "text": [
      "68\n",
      "Low\t\n"
     ]
    },
    {
     "name": "stdin",
     "output_type": "stream",
     "text": [
      "Enter number: 78\n"
     ]
    },
    {
     "name": "stdout",
     "output_type": "stream",
     "text": [
      "78\n",
      "Low\t\n"
     ]
    },
    {
     "name": "stdin",
     "output_type": "stream",
     "text": [
      "Enter number: 99\n"
     ]
    },
    {
     "name": "stdout",
     "output_type": "stream",
     "text": [
      "99\n",
      "High\t\n"
     ]
    },
    {
     "name": "stdin",
     "output_type": "stream",
     "text": [
      "Enter number: 95\n"
     ]
    },
    {
     "name": "stdout",
     "output_type": "stream",
     "text": [
      "95\n",
      "High\t\n"
     ]
    },
    {
     "name": "stdin",
     "output_type": "stream",
     "text": [
      "Enter number: 90\n"
     ]
    },
    {
     "name": "stdout",
     "output_type": "stream",
     "text": [
      "90\n",
      "High\t\n"
     ]
    },
    {
     "name": "stdin",
     "output_type": "stream",
     "text": [
      "Enter number: 85\n"
     ]
    },
    {
     "name": "stdout",
     "output_type": "stream",
     "text": [
      "85\n",
      "High\t\n"
     ]
    },
    {
     "name": "stdin",
     "output_type": "stream",
     "text": [
      "Enter number: 82\n"
     ]
    },
    {
     "name": "stdout",
     "output_type": "stream",
     "text": [
      "82\n",
      "Low\t\n"
     ]
    },
    {
     "name": "stdin",
     "output_type": "stream",
     "text": [
      "Enter number: 83\n"
     ]
    },
    {
     "name": "stdout",
     "output_type": "stream",
     "text": [
      "Correct, the number was 83\n",
      "Number of guesses: 9\n"
     ]
    }
   ],
   "source": [
    "#Num Guess Game\n",
    "import random\n",
    "n=random.randint(1,100)\n",
    "n1=int(input(\"Enter number:\"))\n",
    "if n1>=1 and n1<=100:\n",
    "    i=1\n",
    "    while(n1!=n):\n",
    "        if n1<n:\n",
    "            print(n1)\n",
    "            print(\"Low\\t\")\n",
    "        else:\n",
    "            print(n1)\n",
    "            print(\"High\\t\")\n",
    "        n1=int(input(\"Enter number:\"))\n",
    "        i+=1\n",
    "\n",
    "    print(\"Correct, the number was\",n)\n",
    "    print(\"Number of guesses:\",i)\n",
    "\n"
   ]
  },
  {
   "cell_type": "code",
   "execution_count": 6,
   "id": "a1099b5ef4fb5f6e",
   "metadata": {
    "ExecuteTime": {
     "end_time": "2025-07-01T09:52:12.153512Z",
     "start_time": "2025-07-01T09:51:58.645776Z"
    }
   },
   "outputs": [
    {
     "name": "stdin",
     "output_type": "stream",
     "text": [
      "Enter number: 24\n"
     ]
    },
    {
     "name": "stdout",
     "output_type": "stream",
     "text": [
      "Low\n"
     ]
    },
    {
     "name": "stdin",
     "output_type": "stream",
     "text": [
      "Enter number: 55\n"
     ]
    },
    {
     "name": "stdout",
     "output_type": "stream",
     "text": [
      "Low\n"
     ]
    },
    {
     "name": "stdin",
     "output_type": "stream",
     "text": [
      "Enter number: 88\n"
     ]
    },
    {
     "name": "stdout",
     "output_type": "stream",
     "text": [
      "High\n"
     ]
    },
    {
     "name": "stdin",
     "output_type": "stream",
     "text": [
      "Enter number: 76\n"
     ]
    },
    {
     "name": "stdout",
     "output_type": "stream",
     "text": [
      "Low\n"
     ]
    },
    {
     "name": "stdin",
     "output_type": "stream",
     "text": [
      "Enter number: 79\n"
     ]
    },
    {
     "name": "stdout",
     "output_type": "stream",
     "text": [
      "Low\n"
     ]
    },
    {
     "name": "stdin",
     "output_type": "stream",
     "text": [
      "Enter number: 80\n"
     ]
    },
    {
     "name": "stdout",
     "output_type": "stream",
     "text": [
      "Low\n"
     ]
    },
    {
     "name": "stdin",
     "output_type": "stream",
     "text": [
      "Enter number: 85\n"
     ]
    },
    {
     "name": "stdout",
     "output_type": "stream",
     "text": [
      "High\n"
     ]
    },
    {
     "name": "stdin",
     "output_type": "stream",
     "text": [
      "Enter number: 84\n"
     ]
    },
    {
     "name": "stdout",
     "output_type": "stream",
     "text": [
      "High\n"
     ]
    },
    {
     "name": "stdin",
     "output_type": "stream",
     "text": [
      "Enter number: 83\n"
     ]
    },
    {
     "name": "stdout",
     "output_type": "stream",
     "text": [
      "High\n"
     ]
    },
    {
     "name": "stdin",
     "output_type": "stream",
     "text": [
      "Enter number: 82\n"
     ]
    },
    {
     "name": "stdout",
     "output_type": "stream",
     "text": [
      "Correct\n",
      "Number is 82\n"
     ]
    }
   ],
   "source": [
    "#Try 2\n",
    "import random\n",
    "n=random.randint(1,100)\n",
    "for i in range(100):\n",
    "    count=1\n",
    "    n1=int(input(\"Enter number:\"))\n",
    "    if n1<n:\n",
    "        print(\"Low\")\n",
    "        count+=1\n",
    "    elif n1>n:\n",
    "        print(\"High\")\n",
    "        count+=1\n",
    "    else:\n",
    "        print(\"Correct\")\n",
    "        break\n",
    "print(\"Number is\",n)\n",
    "\n"
   ]
  },
  {
   "cell_type": "code",
   "execution_count": 50,
   "id": "8b2e8372c4e7c65b",
   "metadata": {
    "ExecuteTime": {
     "end_time": "2025-07-01T09:56:52.037561Z",
     "start_time": "2025-07-01T09:56:49.706367Z"
    }
   },
   "outputs": [
    {
     "name": "stdout",
     "output_type": "stream",
     "text": [
      "10x1=10\n",
      "10x2=20\n",
      "10x3=30\n",
      "10x4=40\n",
      "10x5=50\n",
      "10x6=60\n",
      "10x7=70\n",
      "10x8=80\n",
      "10x9=90\n",
      "10x10=100\n"
     ]
    }
   ],
   "source": [
    "#Program to print Multiplication table for a given number\n",
    "table=int(input(\"Enter number:\"))\n",
    "for i in range(1,11):\n",
    "    print(f\"{table}x{i}={table*i}\")\n"
   ]
  },
  {
   "cell_type": "code",
   "execution_count": 57,
   "id": "4a6c15021e179cd4",
   "metadata": {
    "ExecuteTime": {
     "end_time": "2025-07-01T10:07:49.677618Z",
     "start_time": "2025-07-01T10:07:45.707609Z"
    }
   },
   "outputs": [
    {
     "name": "stdout",
     "output_type": "stream",
     "text": [
      "5x1=5\n",
      "5x2=10\n",
      "5x3=15\n",
      "5x4=20\n",
      "5x5=25\n",
      "5x6=30\n",
      "5x7=35\n",
      "5x8=40\n",
      "5x9=45\n",
      "5x10=50\n",
      "\n",
      "6x1=6\n",
      "6x2=12\n",
      "6x3=18\n",
      "6x4=24\n",
      "6x5=30\n",
      "6x6=36\n",
      "6x7=42\n",
      "6x8=48\n",
      "6x9=54\n",
      "6x10=60\n",
      "\n",
      "7x1=7\n",
      "7x2=14\n",
      "7x3=21\n",
      "7x4=28\n",
      "7x5=35\n",
      "7x6=42\n",
      "7x7=49\n",
      "7x8=56\n",
      "7x9=63\n",
      "7x10=70\n",
      "\n"
     ]
    }
   ],
   "source": [
    "#Program to print multiple tables\n",
    "table1=int(input(\"Enter number1:\"))\n",
    "table2=int(input(\"Enter number2:\"))\n",
    "for i in range(table1,table2+1):\n",
    "    for j in range(1,11):\n",
    "        print(f\"{i}x{j}={i*j}\")\n",
    "    print()\n"
   ]
  },
  {
   "cell_type": "code",
   "execution_count": 66,
   "id": "acb31dc41b08a364",
   "metadata": {
    "ExecuteTime": {
     "end_time": "2025-07-01T10:24:20.426795Z",
     "start_time": "2025-07-01T10:24:18.167052Z"
    }
   },
   "outputs": [
    {
     "name": "stdout",
     "output_type": "stream",
     "text": [
      "Number is: 345\n",
      "5+4+3=12\n"
     ]
    }
   ],
   "source": [
    "'''\n",
    "For the given integer number from the user, find out sum of digits of given number\n",
    "'''\n",
    "n=int(input(\"Enter number:\"))\n",
    "print(\"Number is:\",n)\n",
    "sum=0\n",
    "while(n!=0):\n",
    "    rem=n%10\n",
    "    sum=sum+rem\n",
    "    if n//10!=0:\n",
    "        print(f\"{rem}+\",end='')\n",
    "    else:\n",
    "        print(f\"{rem}=\",end='')\n",
    "    n=n//10\n",
    "print(sum)\n"
   ]
  },
  {
   "cell_type": "code",
   "execution_count": 71,
   "id": "269d21c2adb1d219",
   "metadata": {
    "ExecuteTime": {
     "end_time": "2025-07-01T10:36:26.913837Z",
     "start_time": "2025-07-01T10:36:18.449437Z"
    }
   },
   "outputs": [
    {
     "name": "stdout",
     "output_type": "stream",
     "text": [
      "6 even\n",
      "7 odd\n",
      "8 even\n",
      "9 odd\n",
      "10 even\n",
      "Sum of sum= 40\n"
     ]
    }
   ],
   "source": [
    "num1=int(input(\"Enter number1:\"))\n",
    "num2=int(input(\"Enter number2:\"))\n",
    "mainsum=0\n",
    "for i in range(num1,num2+1):\n",
    "    n=i\n",
    "    sum=0\n",
    "    while(n>0):\n",
    "        rem=n%10\n",
    "        sum=sum+rem\n",
    "        n=n//10\n",
    "    if sum%2==0:\n",
    "        print(sum,\"even\")git\n",
    "    else:\n",
    "        print(sum,\"odd\")\n",
    "    mainsum+=sum\n",
    "print(\"Sum of sum=\",mainsum)"
   ]
  },
  {
   "cell_type": "markdown",
   "id": "8896a5f5-4284-4a53-b7c4-65ca5431786c",
   "metadata": {},
   "source": [
    "2nd July 2025: Wednesday"
   ]
  },
  {
   "cell_type": "markdown",
   "id": "3e717003-8130-49ab-bdb8-fc1e24fbeac8",
   "metadata": {},
   "source": [
    "Functions\n",
    "1. Built-in functions:\n",
    "2. User Defined functions\n",
    "\n",
    "Instead of writing code for a particular concept repeatedly, we create it once and name it. Whenever that concept is required, just call that function.\n",
    "Note: Highest efficiency\n",
    "\n",
    "Types:\n",
    "1. Functions without arguments, without return value.\n",
    "2. Functions without arguments, with return value.\n",
    "3. Function with argument, without return value.\n",
    "4. Function with argument, with return value."
   ]
  },
  {
   "cell_type": "code",
   "execution_count": 3,
   "id": "fd531698-e34f-443e-9ebb-fe34b92d0194",
   "metadata": {},
   "outputs": [
    {
     "name": "stdout",
     "output_type": "stream",
     "text": [
      "600\n"
     ]
    }
   ],
   "source": [
    "#Without arg, without ret value\n",
    "def singer_add():\n",
    "    print(100+200+300)\n",
    "\n",
    "singer_add()"
   ]
  },
  {
   "cell_type": "code",
   "execution_count": null,
   "id": "51b78259-ebfb-46d8-8425-9f2a83668180",
   "metadata": {},
   "outputs": [],
   "source": []
  }
 ],
 "metadata": {
  "kernelspec": {
   "display_name": "Python 3 (ipykernel)",
   "language": "python",
   "name": "python3"
  },
  "language_info": {
   "codemirror_mode": {
    "name": "ipython",
    "version": 3
   },
   "file_extension": ".py",
   "mimetype": "text/x-python",
   "name": "python",
   "nbconvert_exporter": "python",
   "pygments_lexer": "ipython3",
   "version": "3.12.4"
  }
 },
 "nbformat": 4,
 "nbformat_minor": 5
}
