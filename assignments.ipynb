{
 "cells": [
  {
   "cell_type": "code",
   "execution_count": null,
   "id": "9ccdfc01-707d-4b63-be41-4edf11e7a5d2",
   "metadata": {},
   "outputs": [],
   "source": [
    "'''\n",
    "Assignment 1: Program to check whether number is int or float\n",
    "'''\n",
    "def typeCheck(x):\n",
    "    if x==(x//1):\n",
    "        x=int(x)\n",
    "        print(\"Type Int\")\n",
    "    else:\n",
    "        print(\"Type Float\")\n",
    "################################\n",
    "x=float(input(\"Enter:\"))\n",
    "typeCheck(x)"
   ]
  },
  {
   "cell_type": "code",
   "execution_count": 5,
   "id": "d6ec439b-612c-46df-bb44-ea7f1dd83f86",
   "metadata": {},
   "outputs": [
    {
     "name": "stdin",
     "output_type": "stream",
     "text": [
      "Enter parentheses: ()()[][]{}{}\n"
     ]
    },
    {
     "name": "stdout",
     "output_type": "stream",
     "text": [
      "Valid\n"
     ]
    }
   ],
   "source": [
    "'''\n",
    "Assignment 2: Stack Application: Parenthesis evaluation: All brackets\n",
    "'''\n",
    "def brackCheck(brack): \n",
    "    stackN=[]\n",
    "    stackS=[]\n",
    "    stackC=[]\n",
    "    negLengthFlagN=0\n",
    "    negLengthFlagS=0\n",
    "    negLengthFlagC=0\n",
    "    \n",
    "    for i in brack:\n",
    "        if i=='(':\n",
    "            stackN.append(1)\n",
    "        elif i==')':\n",
    "            if len(stackN)!=0:\n",
    "                stackN.pop()\n",
    "            else:\n",
    "                print(\"Invalid\")\n",
    "                negLengthFlagN=1\n",
    "                break\n",
    "        elif i=='[':\n",
    "            stackS.append(1)\n",
    "        elif i==']':\n",
    "            if len(stackS)!=0:\n",
    "                stackS.pop()\n",
    "            else:\n",
    "                print(\"Invalid\")\n",
    "                negLengthFlagS=1\n",
    "                break\n",
    "        elif i=='{':\n",
    "            stackC.append(1)\n",
    "        elif i=='}':\n",
    "            if len(stackC)!=0:\n",
    "                stackC.pop()\n",
    "            else:\n",
    "                print(\"Invalid\")\n",
    "                negLengthFlagC=1\n",
    "                break\n",
    "    if stackS==[] and stackN==[] and stackC==[] and negLengthFlagN==0 and negLengthFlagS==0 and negLengthFlagC==0:\n",
    "        print(\"Valid\")\n",
    "    elif stackS!=[] and stackN!=[] and stackC!=[] and negLengthFlagN==0 and negLengthFlagS==0 and negLengthFlagC==0:\n",
    "        print(\"Invalid\")\n",
    "#################################################################################################################################################\n",
    "brackString=input(\"Enter parentheses:\")\n",
    "brackCheck(brackString)\n",
    "\n",
    "    "
   ]
  }
 ],
 "metadata": {
  "kernelspec": {
   "display_name": "Python 3 (ipykernel)",
   "language": "python",
   "name": "python3"
  },
  "language_info": {
   "codemirror_mode": {
    "name": "ipython",
    "version": 3
   },
   "file_extension": ".py",
   "mimetype": "text/x-python",
   "name": "python",
   "nbconvert_exporter": "python",
   "pygments_lexer": "ipython3",
   "version": "3.12.4"
  }
 },
 "nbformat": 4,
 "nbformat_minor": 5
}
