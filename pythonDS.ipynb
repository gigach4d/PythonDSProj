{
 "cells": [
  {
   "cell_type": "markdown",
   "id": "7b29a59b4a8fc47d",
   "metadata": {
    "editable": true,
    "slideshow": {
     "slide_type": ""
    },
    "tags": []
   },
   "source": [
    "Python is pretty famous for 2 things:\n",
    "1. Lot of inbuilt modules.\n",
    "2. It supports past, present and future technologies.\n",
    "\n",
    "Python is called as a scripting language.\n"
   ]
  },
  {
   "cell_type": "code",
   "execution_count": null,
   "id": "initial_id",
   "metadata": {
    "ExecuteTime": {
     "end_time": "2025-07-01T05:09:24.197157Z",
     "start_time": "2025-07-01T05:09:24.188439Z"
    }
   },
   "outputs": [],
   "source": [
    "name=123\n",
    "Name=321\n",
    "#123Name=\"abc\"\n",
    "_123name=\"pqr\"\n",
    "#name$123=\"fgh\"\n",
    "print(name,Name,_123name)"
   ]
  },
  {
   "cell_type": "code",
   "execution_count": null,
   "id": "220a7e46ef958268",
   "metadata": {
    "ExecuteTime": {
     "end_time": "2025-07-01T05:09:59.656491Z",
     "start_time": "2025-07-01T05:09:59.613686Z"
    }
   },
   "outputs": [],
   "source": [
    "#Complex class\n",
    "print(10+5j)\n",
    "type(10+5j)"
   ]
  },
  {
   "cell_type": "code",
   "execution_count": null,
   "id": "e407410cbef1bbc0",
   "metadata": {
    "ExecuteTime": {
     "end_time": "2025-07-01T05:11:33.303323Z",
     "start_time": "2025-07-01T05:11:31.798528Z"
    }
   },
   "outputs": [],
   "source": [
    "n1=100\n",
    "print(n1,type(n1))\n",
    "n2=23.56\n",
    "n3=\"hello\"\n",
    "n4=100+7j\n",
    "print(n2,type(n2))\n",
    "\n",
    "print(n3,type(n3))\n",
    "\n",
    "print(n4,type(n4))\n"
   ]
  },
  {
   "cell_type": "code",
   "execution_count": null,
   "id": "e53bf87b98691599",
   "metadata": {
    "ExecuteTime": {
     "end_time": "2025-07-01T05:11:57.621955Z",
     "start_time": "2025-07-01T05:11:50.361542Z"
    }
   },
   "outputs": [],
   "source": [
    "#dynamic input\n",
    "n1=int(input(\"Enter num1 here:\"))\n",
    "n2=int(input(\"Enter num2 here:\"))\n",
    "print(\"Sum=\",n1+n2)"
   ]
  },
  {
   "cell_type": "code",
   "execution_count": null,
   "id": "f8d8145a7199f36a",
   "metadata": {
    "ExecuteTime": {
     "end_time": "2025-07-01T05:21:24.649612Z",
     "start_time": "2025-07-01T05:21:19.351484Z"
    }
   },
   "outputs": [],
   "source": [
    "#Take 2 integer numbers as input from the user, and design a calculator +-x/%\n",
    "x=int(input(\"Enter first number here:\"))\n",
    "y=int(input(\"Enter second number here:\"))\n",
    "add=x+y\n",
    "if x>y:\n",
    "    dif=x-y\n",
    "else:\n",
    "    dif=y-x\n",
    "prod=x*y\n",
    "quotFloat=x/y\n",
    "quotInt=x//y\n",
    "remain=x%y\n",
    "\n",
    "print(\"Sum is\",add)\n",
    "print(\"Difference is\",dif)\n",
    "print(\"Product is\",prod)\n",
    "print(\"Float Quotient is\",quotFloat)\n",
    "print(\"Integer Quotient is\",quotInt)\n",
    "print(\"Remainder is\",remain)"
   ]
  },
  {
   "cell_type": "code",
   "execution_count": null,
   "id": "feb42e5d3e498fce",
   "metadata": {
    "ExecuteTime": {
     "end_time": "2025-07-01T05:35:15.877860Z",
     "start_time": "2025-07-01T05:35:11.148883Z"
    }
   },
   "outputs": [],
   "source": [
    "a=float(input(\"Enter num1\"))\n",
    "b=float(input(\"num2\"))\n",
    "'''a=int(a)\n",
    "b=int(b)'''\n",
    "add=a+b\n",
    "print(add)"
   ]
  },
  {
   "cell_type": "code",
   "execution_count": null,
   "id": "c45660e9f4120f3d",
   "metadata": {
    "ExecuteTime": {
     "end_time": "2025-07-01T06:07:28.044081Z",
     "start_time": "2025-07-01T06:07:28.036790Z"
    }
   },
   "outputs": [],
   "source": [
    "'''Sam and Angel are good friends. Sam bought 75 candies, he gives half of it to angel since angel likes sam a lot, she gives back half. Calculate and print how many sam and angel have individually.'''\n",
    "sam=75\n",
    "angel=0.5*sam\n",
    "\n",
    "sam=0.5*sam+0.5*angel\n",
    "angel=0.5*angel\n",
    "\n",
    "print(\"Sam has\",sam)\n",
    "print(\"Angel has\",angel)"
   ]
  },
  {
   "cell_type": "code",
   "execution_count": null,
   "id": "a89b007deefac97b",
   "metadata": {
    "ExecuteTime": {
     "end_time": "2025-07-01T06:23:53.902535Z",
     "start_time": "2025-07-01T06:23:53.894094Z"
    }
   },
   "outputs": [],
   "source": [
    "# No variable version\n",
    "print(\"Sam has\", 0.5 * 75 + 0.5 * (0.5 * 75))\n",
    "print(\"Angel has\", 0.5 * (0.5 * 75))\n"
   ]
  },
  {
   "cell_type": "code",
   "execution_count": null,
   "id": "19a91213f596672",
   "metadata": {
    "ExecuteTime": {
     "end_time": "2025-07-01T06:29:35.951327Z",
     "start_time": "2025-07-01T06:29:30.432026Z"
    }
   },
   "outputs": [],
   "source": [
    "age_men=int(input(\"Enter age\"))\n",
    "if age_men>21:\n",
    "    print(\"Eligible to get married\")\n",
    "else:\n",
    "    print(\"You are a kiddo, wait for some more time\")"
   ]
  },
  {
   "cell_type": "code",
   "execution_count": null,
   "id": "f2af00c59d35998a",
   "metadata": {
    "ExecuteTime": {
     "end_time": "2025-07-01T06:51:09.276382Z",
     "start_time": "2025-07-01T06:50:57.212287Z"
    }
   },
   "outputs": [],
   "source": [
    "'''\n",
    "Take 6 inputs, first input=student name\n",
    "rest of the 5 inputs are integer numbers\n",
    "mark them as S1,S2,S3,S4,S5\n",
    "Design a grade system, based on below conditions.\n",
    "\n",
    "No grade= Anything less than 35/100\n",
    "Diamond= 85-100\n",
    "Gold= 60-84\n",
    "Silver=36-59\n",
    "'''\n",
    "studName=input(\"Enter student's name:\")\n",
    "s1=int(input(\"Enter S1 number out of 100:\"))\n",
    "s2=int(input(\"Enter S2 number out of 100:\"))\n",
    "s3=int(input(\"Enter S3 number out of 100:\"))\n",
    "s4=int(input(\"Enter S4 number out of 100:\"))\n",
    "s5=int(input(\"Enter S5 number out of 100:\"))\n",
    "if s1>100 or s2>100 or s3>100 or s4>100 or s5>100:\n",
    "    print(\"Error, reinput all marks within 100\")\n",
    "\n",
    "\n",
    "sum=s1+s2+s3+s4+s5\n",
    "average=sum/5\n",
    "print(\"Total marks=\",sum)\n",
    "print(\"Average=\",average)\n",
    "\n",
    "\n",
    "if average>=0 and average<=35:\n",
    "    print(f\"{studName} achieved No Grade\")\n",
    "elif average>35 and average<60:\n",
    "    print(f\"{studName} achieved Silver Grade\")\n",
    "elif average>=60 and average<85:\n",
    "    print(f\"{studName} achieved Gold Grade\")\n",
    "else:\n",
    "    print(f\"{studName} achieved Diamond Grade\")\n"
   ]
  },
  {
   "cell_type": "code",
   "execution_count": null,
   "id": "3b4f7595bc7f3897",
   "metadata": {
    "ExecuteTime": {
     "end_time": "2025-07-01T07:02:27.290331Z",
     "start_time": "2025-07-01T07:02:23.728803Z"
    }
   },
   "outputs": [],
   "source": [
    "'''\n",
    "Take 3 sides of a triangle as an input, and notify whether your input can frame a triangle or not\n",
    "'''\n",
    "s1=int(input(\"Enter side 1\"))\n",
    "s2=int(input(\"Enter side 2\"))\n",
    "s3=int(input(\"Enter side 3\"))\n",
    "\n",
    "if (s1+s2)>s3 and (s2+s3)>s1 and (s1+s3)>s2:\n",
    "    print(\"Valid triangle\")\n",
    "else:\n",
    "    print(\"Invalid triangle\")"
   ]
  },
  {
   "cell_type": "code",
   "execution_count": null,
   "id": "2a54aef25673198e",
   "metadata": {
    "ExecuteTime": {
     "end_time": "2025-07-01T08:25:12.888168Z",
     "start_time": "2025-07-01T08:25:12.880057Z"
    }
   },
   "outputs": [],
   "source": [
    "#LOOPS\n",
    "for i in range(1,6,2):\n",
    "    print(i)\n",
    "for i in range(10,16):\n",
    "    print(i)\n",
    "\n",
    "i=1\n",
    "while(i<6):\n",
    "    print(i)\n",
    "    i+=1\n",
    "print(i)"
   ]
  },
  {
   "cell_type": "code",
   "execution_count": null,
   "id": "300e33dea6b378fe",
   "metadata": {
    "ExecuteTime": {
     "end_time": "2025-07-01T08:33:25.484625Z",
     "start_time": "2025-07-01T08:33:25.476583Z"
    }
   },
   "outputs": [],
   "source": [
    "#NESTING or NESTED FOR LOOPS\n",
    "'''\n",
    "FOR EVERY ITERATION OF OUTER LOOP, COMPLETE INNER LOOP WILL GET EXECUTED\n",
    "'''\n",
    "\n",
    "#THIS PROGRAM HAS LOOPS THAT EXECUTE 9 TIMES IN TOTAL\n",
    "for i in range(3):\n",
    "    for j in range(3):\n",
    "        print(\"i\",i)\n",
    "        print(\"j\",j)"
   ]
  },
  {
   "cell_type": "code",
   "execution_count": null,
   "id": "dbcb063392d7768d",
   "metadata": {
    "ExecuteTime": {
     "end_time": "2025-07-01T09:29:23.364129Z",
     "start_time": "2025-07-01T09:29:21.943185Z"
    }
   },
   "outputs": [],
   "source": [
    "#Num Guess Game\n",
    "import random\n",
    "n=random.randint(1,100)\n",
    "n1=int(input(\"Enter number:\"))\n",
    "if n1>=1 and n1<=100:\n",
    "    i=1\n",
    "    while(n1!=n):\n",
    "        if n1<n:\n",
    "            print(n1)\n",
    "            print(\"Low\\t\")\n",
    "        else:\n",
    "            print(n1)\n",
    "            print(\"High\\t\")\n",
    "        n1=int(input(\"Enter number:\"))\n",
    "        i+=1\n",
    "\n",
    "    print(\"Correct, the number was\",n)\n",
    "    print(\"Number of guesses:\",i)\n",
    "\n"
   ]
  },
  {
   "cell_type": "code",
   "execution_count": null,
   "id": "a1099b5ef4fb5f6e",
   "metadata": {
    "ExecuteTime": {
     "end_time": "2025-07-01T09:52:12.153512Z",
     "start_time": "2025-07-01T09:51:58.645776Z"
    }
   },
   "outputs": [],
   "source": [
    "#Try 2\n",
    "import random\n",
    "n=random.randint(1,100)\n",
    "for i in range(100):\n",
    "    count=1\n",
    "    n1=int(input(\"Enter number:\"))\n",
    "    if n1<n:\n",
    "        print(\"Low\")\n",
    "        count+=1\n",
    "    elif n1>n:\n",
    "        print(\"High\")\n",
    "        count+=1\n",
    "    else:\n",
    "        print(\"Correct\")\n",
    "        break\n",
    "print(\"Number is\",n)\n",
    "\n"
   ]
  },
  {
   "cell_type": "code",
   "execution_count": null,
   "id": "8b2e8372c4e7c65b",
   "metadata": {
    "ExecuteTime": {
     "end_time": "2025-07-01T09:56:52.037561Z",
     "start_time": "2025-07-01T09:56:49.706367Z"
    }
   },
   "outputs": [],
   "source": [
    "#Program to print Multiplication table for a given number\n",
    "table=int(input(\"Enter number:\"))\n",
    "for i in range(1,11):\n",
    "    print(f\"{table}x{i}={table*i}\")\n"
   ]
  },
  {
   "cell_type": "code",
   "execution_count": null,
   "id": "4a6c15021e179cd4",
   "metadata": {
    "ExecuteTime": {
     "end_time": "2025-07-01T10:07:49.677618Z",
     "start_time": "2025-07-01T10:07:45.707609Z"
    }
   },
   "outputs": [],
   "source": [
    "#Program to print multiple tables\n",
    "table1=int(input(\"Enter number1:\"))\n",
    "table2=int(input(\"Enter number2:\"))\n",
    "for i in range(table1,table2+1):\n",
    "    for j in range(1,11):\n",
    "        print(f\"{i}x{j}={i*j}\")\n",
    "    print()\n"
   ]
  },
  {
   "cell_type": "code",
   "execution_count": null,
   "id": "acb31dc41b08a364",
   "metadata": {
    "ExecuteTime": {
     "end_time": "2025-07-01T10:24:20.426795Z",
     "start_time": "2025-07-01T10:24:18.167052Z"
    }
   },
   "outputs": [],
   "source": [
    "'''\n",
    "For the given integer number from the user, find out sum of digits of given number\n",
    "'''\n",
    "n=int(input(\"Enter number:\"))\n",
    "print(\"Number is:\",n)\n",
    "sum=0\n",
    "while(n!=0):\n",
    "    rem=n%10\n",
    "    sum=sum+rem\n",
    "    if n//10!=0:\n",
    "        print(f\"{rem}+\",end='')\n",
    "    else:\n",
    "        print(f\"{rem}=\",end='')\n",
    "    n=n//10\n",
    "print(sum)\n"
   ]
  },
  {
   "cell_type": "code",
   "execution_count": null,
   "id": "269d21c2adb1d219",
   "metadata": {
    "ExecuteTime": {
     "end_time": "2025-07-01T10:36:26.913837Z",
     "start_time": "2025-07-01T10:36:18.449437Z"
    }
   },
   "outputs": [],
   "source": [
    "num1=int(input(\"Enter number1:\"))\n",
    "num2=int(input(\"Enter number2:\"))\n",
    "mainsum=0\n",
    "for i in range(num1,num2+1):\n",
    "    n=i\n",
    "    sum=0\n",
    "    while(n>0):\n",
    "        rem=n%10\n",
    "        sum=sum+rem\n",
    "        n=n//10\n",
    "    if sum%2==0:\n",
    "        print(sum,\"even\")git\n",
    "    else:\n",
    "        print(sum,\"odd\")\n",
    "    mainsum+=sum\n",
    "print(\"Sum of sum=\",mainsum)"
   ]
  },
  {
   "cell_type": "markdown",
   "id": "8896a5f5-4284-4a53-b7c4-65ca5431786c",
   "metadata": {},
   "source": [
    "2nd July 2025: Wednesday"
   ]
  },
  {
   "cell_type": "markdown",
   "id": "3e717003-8130-49ab-bdb8-fc1e24fbeac8",
   "metadata": {},
   "source": [
    "Functions\n",
    "1. Built-in functions:\n",
    "2. User Defined functions\n",
    "\n",
    "Instead of writing code for a particular concept repeatedly, we create it once and name it. Whenever that concept is required, just call that function.\n",
    "Note: Highest efficiency\n",
    "\n",
    "Types:\n",
    "1. Functions without arguments, without return value.\n",
    "2. Functions without arguments, with return value.\n",
    "3. Function with argument, without return value.\n",
    "4. Function with argument, with return value."
   ]
  },
  {
   "cell_type": "code",
   "execution_count": null,
   "id": "fd531698-e34f-443e-9ebb-fe34b92d0194",
   "metadata": {},
   "outputs": [],
   "source": [
    "#Without arg, without ret value\n",
    "def singer_add():\n",
    "    print(1+2+3)\n",
    "singer_add()\n",
    "print(\"Calling second time\")\n",
    "singer_add()"
   ]
  },
  {
   "cell_type": "code",
   "execution_count": null,
   "id": "51b78259-ebfb-46d8-8425-9f2a83668180",
   "metadata": {
    "scrolled": true
   },
   "outputs": [],
   "source": [
    "#Without arg, with ret value\n",
    "def singer_add():\n",
    "    res=1+2+3\n",
    "    return res\n",
    "    \n",
    "print(singer_add())"
   ]
  },
  {
   "cell_type": "code",
   "execution_count": null,
   "id": "5f3c8e9e-950d-4675-9a0e-59c68dfa6c33",
   "metadata": {},
   "outputs": [],
   "source": [
    "'''\n",
    "After taking 3 integer numbers from the user as input, multiply them and check whether the product is divisible by both 2 and 7. \n",
    "Op should be either yes or no\n",
    "TYPE 1: Function without argument, without return value\n",
    "\n",
    "'''\n",
    "def divCheckMain():\n",
    "    x=int(input(\"Enter x:\"))\n",
    "    y=int(input(\"Enter y:\"))\n",
    "    z=int(input(\"Enter z:\"))\n",
    "    prod=x*y*z\n",
    "    if prod%2==0 and prod%7==0:\n",
    "        print(\"Yes\")\n",
    "    else:\n",
    "        print(\"No\")\n",
    "\n",
    "divCheckMain()\n",
    "            \n",
    "        "
   ]
  },
  {
   "cell_type": "code",
   "execution_count": null,
   "id": "5692e5f7-40b7-440e-b648-74486f02f091",
   "metadata": {},
   "outputs": [],
   "source": [
    "'''\n",
    "After taking 3 integer numbers from the user as input, multiply them and check whether the product is divisible by both 2 and 7. \n",
    "Op should be either yes or no\n",
    "TYPE 2: Function without argument, with return value\n",
    "\n",
    "'''\n",
    "def divCheckMain():\n",
    "    x=int(input(\"Enter x:\"))\n",
    "    y=int(input(\"Enter y:\"))\n",
    "    z=int(input(\"Enter z:\"))\n",
    "    prod=x*y*z\n",
    "    if prod%2==0 and prod%7==0:\n",
    "        return \"Yes\"\n",
    "    else:\n",
    "        return \"No\"\n",
    "\n",
    "print(divCheckMain())\n",
    "            \n",
    "        "
   ]
  },
  {
   "cell_type": "code",
   "execution_count": null,
   "id": "07681661-262e-4a49-8628-2d76c6643610",
   "metadata": {},
   "outputs": [],
   "source": [
    "'''\n",
    "After taking 3 integer numbers from the user as input, multiply them and check whether the product is divisible by both 2 and 7. \n",
    "Op should be either yes or no\n",
    "TYPE 3: Function with argument without return value\n",
    "\n",
    "'''\n",
    "def divCheckMain(x,y,z):\n",
    "    prod=x*y*z\n",
    "    if prod%2==0 and prod%7==0:\n",
    "        print(\"Yes\")\n",
    "    else:\n",
    "        print(\"No\")\n",
    "\n",
    "x=int(input(\"Enter x:\"))\n",
    "y=int(input(\"Enter y:\"))\n",
    "z=int(input(\"Enter z:\"))\n",
    "divCheckMain(x,y,z)\n",
    "            \n",
    "        "
   ]
  },
  {
   "cell_type": "code",
   "execution_count": null,
   "id": "7e0d2ffc-a9fd-45b9-99b7-6799a48b568e",
   "metadata": {},
   "outputs": [],
   "source": [
    "'''\n",
    "After taking 3 integer numbers from the user as input, multiply them and check whether the product is divisible by both 2 and 7. \n",
    "Op should be either yes or no\n",
    "TYPE 4: Function with argument with return value\n",
    "\n",
    "'''\n",
    "def divCheckMain(x,y,z):\n",
    "    prod=x*y*z\n",
    "    if prod%2==0 and prod%7==0:\n",
    "        return \"Yes\"\n",
    "    else:\n",
    "        return \"No\"\n",
    "\n",
    "x=int(input(\"Enter x:\"))\n",
    "y=int(input(\"Enter y:\"))\n",
    "z=int(input(\"Enter z:\"))\n",
    "print(divCheckMain(x,y,z))            \n",
    "        "
   ]
  },
  {
   "cell_type": "code",
   "execution_count": null,
   "id": "6a5f08ae-b760-42c5-90bf-521f38ba6c37",
   "metadata": {},
   "outputs": [],
   "source": [
    "'''\n",
    "Check and print factors for all the given numbers, and use function type 3 and 4\n",
    "#Type3\n",
    "x=int(input(\"Enter number here:\"))\n",
    "def factorCheck(x):\n",
    "    for i in range(1,(x//2)+1):\n",
    "        if x%i==0:\n",
    "            print(i,end=' ')\n",
    "factorCheck(x)\n",
    "print(x)\n",
    "'''\n",
    "#Type 4\n",
    "x=int(input(\"Enter number here:\"))\n",
    "def factorCheck(x):\n",
    "    for i in range(1,(x//2)+1):\n",
    "        if x%i==0:\n",
    "            yield i\n",
    "            \n",
    "for j in factorCheck(x):\n",
    "    print(j,end=' ')\n",
    "print(x)\n"
   ]
  },
  {
   "cell_type": "code",
   "execution_count": null,
   "id": "2ee09960-3e10-430e-a9ba-afdc05ff01ea",
   "metadata": {},
   "outputs": [],
   "source": [
    "def add(n,i):\n",
    "    \n",
    "    if n%i==0:\n",
    "        return i\n",
    "    else:\n",
    "        return \"a\"\n",
    "n=int(input())\n",
    "for i in range(1,(n//2)+1):\n",
    "    r=add(n,i)\n",
    "    if r!=\"a\":\n",
    "        print(r)\n",
    "print(n)"
   ]
  },
  {
   "cell_type": "markdown",
   "id": "6c6dd46f-525e-4ad8-ae8b-1d6a1d89531c",
   "metadata": {},
   "source": [
    "Data Structures:\n",
    "\n",
    "In order to maintain tons of data in an efficient way, we use data structures. \n",
    "Types:\n",
    "1. Linear\n",
    "2. Non Linear\n",
    "\n",
    "Linear:\n",
    "Arrays, Stack, Queue, Linked List.\n",
    "\n",
    "Non Linear:\n",
    "Trees, Graphs, Hashing.\n",
    "\n",
    "DataStructures in Python:\n",
    "List, Set, Tuple, and Dictionary."
   ]
  },
  {
   "cell_type": "markdown",
   "id": "d63a4964-601e-419b-a189-d46feb1c9026",
   "metadata": {},
   "source": [
    "List:\n",
    "It is equivalent to an array. However, it can store different data of varying data types. This is a huge advantage, unlike usual arrays in language like C and Cpp.\n",
    "\n"
   ]
  },
  {
   "cell_type": "code",
   "execution_count": 134,
   "id": "e6317c25-afba-458c-a1cb-0d9227c48fda",
   "metadata": {},
   "outputs": [
    {
     "name": "stdout",
     "output_type": "stream",
     "text": [
      "<class 'list'>\n",
      "<class 'set'>\n",
      "<class 'tuple'>\n",
      "0 afsal\n",
      "1 midhun\n"
     ]
    }
   ],
   "source": [
    "#List is mutable. Allows duplicate values. Any datatypes can be stored. Has indexing\n",
    "arr=[1,2,3,4]\n",
    "print(type(arr))\n",
    "\n",
    "#Set stores an unordered collection of unique items (no duplicates), ideal for membership tests, removing duplicates, and set \n",
    "#operations like union and intersection. Also has no indexing\n",
    "s={10,20,30}\n",
    "print(type(s))\n",
    "\n",
    "#Tuple for ordered, immutable data that shouldnt be changed. Has indexing\n",
    "t=(2,5,6)\n",
    "print(type(t))\n",
    "\n",
    "#Dictionary is used for storing key value pairs. Allows fast insertion, lookup and deletion by key; commonly used for structured data, mappings and configurations.\n",
    "'''\n",
    "Dictionaries are also mutable. They can also store duplicate values, but not duplicate keys. i.e Keys are unique. Indexing is key-based.\n",
    "'''\n",
    "d={0:\"afsal\", 1:\"midhun\"}\n",
    "for i in d:\n",
    "    print(i,d[i])"
   ]
  }
 ],
 "metadata": {
  "kernelspec": {
   "display_name": "Python 3 (ipykernel)",
   "language": "python",
   "name": "python3"
  },
  "language_info": {
   "codemirror_mode": {
    "name": "ipython",
    "version": 3
   },
   "file_extension": ".py",
   "mimetype": "text/x-python",
   "name": "python",
   "nbconvert_exporter": "python",
   "pygments_lexer": "ipython3",
   "version": "3.12.4"
  }
 },
 "nbformat": 4,
 "nbformat_minor": 5
}
